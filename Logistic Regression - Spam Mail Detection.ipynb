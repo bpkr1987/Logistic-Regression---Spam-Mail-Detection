{
 "cells": [
  {
   "cell_type": "code",
   "execution_count": 1,
   "metadata": {},
   "outputs": [],
   "source": [
    "#****************************************************************************************************************************#\n",
    "# Project             : Spam Mail Detection                                                                                  # \n",
    "# Methodology         : Perfrom Logictic Regression to build the model for detecting whether the mail data is spam or not    # \n",
    "# Model               : Logistic Regression from scratch and using scklearn library                                          # \n",
    "# Performance Metrics : Accuracy, AUC curve, Confusion Matrix, F1 score, specificity, sensitivity, TPR, FPR                  #                  \n",
    "# Author              : Pavan Kumar Battula                                                                                  # \n",
    "#****************************************************************************************************************************#"
   ]
  },
  {
   "cell_type": "markdown",
   "metadata": {},
   "source": [
    "## Importing the Required Libraries for perfoming Logistic Regression Analysis"
   ]
  },
  {
   "cell_type": "code",
   "execution_count": 2,
   "metadata": {},
   "outputs": [],
   "source": [
    "import numpy as np\n",
    "import pandas as pd\n",
    "from matplotlib import pyplot as plt\n",
    "import seaborn as sns"
   ]
  },
  {
   "cell_type": "markdown",
   "metadata": {},
   "source": [
    "## Loading the Given Dataset and view top 5 records to understand the data"
   ]
  },
  {
   "cell_type": "code",
   "execution_count": 3,
   "metadata": {},
   "outputs": [],
   "source": [
    "data = pd.read_csv('C:/Users/PAVAN REDDY BATTULA/Desktop/UNH/Fall-2021/Intro to Data Science/Canvas/13 - Logistic Regression/DSCI6002_prj2_data.csv')"
   ]
  },
  {
   "cell_type": "code",
   "execution_count": 4,
   "metadata": {},
   "outputs": [
    {
     "data": {
      "text/html": [
       "<div>\n",
       "<style scoped>\n",
       "    .dataframe tbody tr th:only-of-type {\n",
       "        vertical-align: middle;\n",
       "    }\n",
       "\n",
       "    .dataframe tbody tr th {\n",
       "        vertical-align: top;\n",
       "    }\n",
       "\n",
       "    .dataframe thead th {\n",
       "        text-align: right;\n",
       "    }\n",
       "</style>\n",
       "<table border=\"1\" class=\"dataframe\">\n",
       "  <thead>\n",
       "    <tr style=\"text-align: right;\">\n",
       "      <th></th>\n",
       "      <th>spam</th>\n",
       "      <th>to_multiple</th>\n",
       "      <th>from</th>\n",
       "      <th>cc</th>\n",
       "      <th>sent_email</th>\n",
       "      <th>time</th>\n",
       "      <th>image</th>\n",
       "      <th>attach</th>\n",
       "      <th>dollar</th>\n",
       "      <th>winner</th>\n",
       "      <th>...</th>\n",
       "      <th>viagra</th>\n",
       "      <th>password</th>\n",
       "      <th>num_char</th>\n",
       "      <th>line_breaks</th>\n",
       "      <th>format</th>\n",
       "      <th>re_subj</th>\n",
       "      <th>exclaim_subj</th>\n",
       "      <th>urgent_subj</th>\n",
       "      <th>exclaim_mess</th>\n",
       "      <th>number</th>\n",
       "    </tr>\n",
       "  </thead>\n",
       "  <tbody>\n",
       "    <tr>\n",
       "      <th>0</th>\n",
       "      <td>0</td>\n",
       "      <td>0</td>\n",
       "      <td>1</td>\n",
       "      <td>0</td>\n",
       "      <td>0</td>\n",
       "      <td>2011-12-31 22:16:41</td>\n",
       "      <td>0</td>\n",
       "      <td>0</td>\n",
       "      <td>0</td>\n",
       "      <td>no</td>\n",
       "      <td>...</td>\n",
       "      <td>0</td>\n",
       "      <td>0</td>\n",
       "      <td>11.370</td>\n",
       "      <td>202</td>\n",
       "      <td>1</td>\n",
       "      <td>0</td>\n",
       "      <td>0</td>\n",
       "      <td>0</td>\n",
       "      <td>0</td>\n",
       "      <td>big</td>\n",
       "    </tr>\n",
       "    <tr>\n",
       "      <th>1</th>\n",
       "      <td>0</td>\n",
       "      <td>0</td>\n",
       "      <td>1</td>\n",
       "      <td>0</td>\n",
       "      <td>0</td>\n",
       "      <td>2011-12-31 23:03:59</td>\n",
       "      <td>0</td>\n",
       "      <td>0</td>\n",
       "      <td>0</td>\n",
       "      <td>no</td>\n",
       "      <td>...</td>\n",
       "      <td>0</td>\n",
       "      <td>0</td>\n",
       "      <td>10.504</td>\n",
       "      <td>202</td>\n",
       "      <td>1</td>\n",
       "      <td>0</td>\n",
       "      <td>0</td>\n",
       "      <td>0</td>\n",
       "      <td>1</td>\n",
       "      <td>small</td>\n",
       "    </tr>\n",
       "    <tr>\n",
       "      <th>2</th>\n",
       "      <td>0</td>\n",
       "      <td>0</td>\n",
       "      <td>1</td>\n",
       "      <td>0</td>\n",
       "      <td>0</td>\n",
       "      <td>2012-01-01 08:00:32</td>\n",
       "      <td>0</td>\n",
       "      <td>0</td>\n",
       "      <td>4</td>\n",
       "      <td>no</td>\n",
       "      <td>...</td>\n",
       "      <td>0</td>\n",
       "      <td>0</td>\n",
       "      <td>7.773</td>\n",
       "      <td>192</td>\n",
       "      <td>1</td>\n",
       "      <td>0</td>\n",
       "      <td>0</td>\n",
       "      <td>0</td>\n",
       "      <td>6</td>\n",
       "      <td>small</td>\n",
       "    </tr>\n",
       "    <tr>\n",
       "      <th>3</th>\n",
       "      <td>0</td>\n",
       "      <td>0</td>\n",
       "      <td>1</td>\n",
       "      <td>0</td>\n",
       "      <td>0</td>\n",
       "      <td>2012-01-01 01:09:49</td>\n",
       "      <td>0</td>\n",
       "      <td>0</td>\n",
       "      <td>0</td>\n",
       "      <td>no</td>\n",
       "      <td>...</td>\n",
       "      <td>0</td>\n",
       "      <td>0</td>\n",
       "      <td>13.256</td>\n",
       "      <td>255</td>\n",
       "      <td>1</td>\n",
       "      <td>0</td>\n",
       "      <td>0</td>\n",
       "      <td>0</td>\n",
       "      <td>48</td>\n",
       "      <td>small</td>\n",
       "    </tr>\n",
       "    <tr>\n",
       "      <th>4</th>\n",
       "      <td>0</td>\n",
       "      <td>0</td>\n",
       "      <td>1</td>\n",
       "      <td>0</td>\n",
       "      <td>0</td>\n",
       "      <td>2012-01-01 02:00:01</td>\n",
       "      <td>0</td>\n",
       "      <td>0</td>\n",
       "      <td>0</td>\n",
       "      <td>no</td>\n",
       "      <td>...</td>\n",
       "      <td>0</td>\n",
       "      <td>2</td>\n",
       "      <td>1.231</td>\n",
       "      <td>29</td>\n",
       "      <td>0</td>\n",
       "      <td>0</td>\n",
       "      <td>0</td>\n",
       "      <td>0</td>\n",
       "      <td>1</td>\n",
       "      <td>none</td>\n",
       "    </tr>\n",
       "  </tbody>\n",
       "</table>\n",
       "<p>5 rows × 21 columns</p>\n",
       "</div>"
      ],
      "text/plain": [
       "   spam  to_multiple  from  cc  sent_email                 time  image  \\\n",
       "0     0            0     1   0           0  2011-12-31 22:16:41      0   \n",
       "1     0            0     1   0           0  2011-12-31 23:03:59      0   \n",
       "2     0            0     1   0           0  2012-01-01 08:00:32      0   \n",
       "3     0            0     1   0           0  2012-01-01 01:09:49      0   \n",
       "4     0            0     1   0           0  2012-01-01 02:00:01      0   \n",
       "\n",
       "   attach  dollar winner   ...    viagra  password  num_char  line_breaks  \\\n",
       "0       0       0     no   ...         0         0    11.370          202   \n",
       "1       0       0     no   ...         0         0    10.504          202   \n",
       "2       0       4     no   ...         0         0     7.773          192   \n",
       "3       0       0     no   ...         0         0    13.256          255   \n",
       "4       0       0     no   ...         0         2     1.231           29   \n",
       "\n",
       "   format  re_subj  exclaim_subj  urgent_subj  exclaim_mess  number  \n",
       "0       1        0             0            0             0     big  \n",
       "1       1        0             0            0             1   small  \n",
       "2       1        0             0            0             6   small  \n",
       "3       1        0             0            0            48   small  \n",
       "4       0        0             0            0             1    none  \n",
       "\n",
       "[5 rows x 21 columns]"
      ]
     },
     "execution_count": 4,
     "metadata": {},
     "output_type": "execute_result"
    }
   ],
   "source": [
    "data.head()"
   ]
  },
  {
   "cell_type": "code",
   "execution_count": 5,
   "metadata": {},
   "outputs": [
    {
     "name": "stdout",
     "output_type": "stream",
     "text": [
      "The total Number of records in the Given Data Set: 3921\n"
     ]
    }
   ],
   "source": [
    "print(\"The total Number of records in the Given Data Set:\", len(data))"
   ]
  },
  {
   "cell_type": "markdown",
   "metadata": {},
   "source": [
    "## Analysing Data"
   ]
  },
  {
   "cell_type": "code",
   "execution_count": 6,
   "metadata": {},
   "outputs": [
    {
     "data": {
      "text/plain": [
       "<matplotlib.axes._subplots.AxesSubplot at 0x26613ac0320>"
      ]
     },
     "execution_count": 6,
     "metadata": {},
     "output_type": "execute_result"
    },
    {
     "data": {
      "image/png": "[encoded data removed]",
      "text/plain": [
       "<Figure size 432x288 with 1 Axes>"
      ]
     },
     "metadata": {},
     "output_type": "display_data"
    }
   ],
   "source": [
    "sns.countplot(x='spam', data = data)"
   ]
  },
  {
   "cell_type": "markdown",
   "metadata": {},
   "source": [
    "### from the above graph, we can say that there is very less data for 1 and huge data for 0. Due to less data for 1, this may impact the model accuracy for predicting 1"
   ]
  },
  {
   "cell_type": "code",
   "execution_count": 7,
   "metadata": {},
   "outputs": [
    {
     "data": {
      "text/plain": [
       "<matplotlib.axes._subplots.AxesSubplot at 0x26613b9eac8>"
      ]
     },
     "execution_count": 7,
     "metadata": {},
     "output_type": "execute_result"
    },
    {
     "data": {
      "image/png": "[encoded data removed]",
      "text/plain": [
       "<Figure size 720x720 with 2 Axes>"
      ]
     },
     "metadata": {},
     "output_type": "display_data"
    }
   ],
   "source": [
    "plt.figure(figsize=(10,10))\n",
    "sns.heatmap(data.corr())"
   ]
  },
  {
   "cell_type": "code",
   "execution_count": 8,
   "metadata": {},
   "outputs": [
    {
     "data": {
      "text/plain": [
       "<matplotlib.axes._subplots.AxesSubplot at 0x26613f5a6a0>"
      ]
     },
     "execution_count": 8,
     "metadata": {},
     "output_type": "execute_result"
    },
    {
     "data": {
      "image/png": "[encoded data removed]",
      "text/plain": [
       "<Figure size 432x288 with 1 Axes>"
      ]
     },
     "metadata": {},
     "output_type": "display_data"
    }
   ],
   "source": [
    "sns.countplot(x='spam', data = data, hue = 'winner')"
   ]
  },
  {
   "cell_type": "code",
   "execution_count": 9,
   "metadata": {},
   "outputs": [
    {
     "name": "stdout",
     "output_type": "stream",
     "text": [
      "<class 'pandas.core.frame.DataFrame'>\n",
      "RangeIndex: 3921 entries, 0 to 3920\n",
      "Data columns (total 21 columns):\n",
      "spam            3921 non-null int64\n",
      "to_multiple     3921 non-null int64\n",
      "from            3921 non-null int64\n",
      "cc              3921 non-null int64\n",
      "sent_email      3921 non-null int64\n",
      "time            3921 non-null object\n",
      "image           3921 non-null int64\n",
      "attach          3921 non-null int64\n",
      "dollar          3921 non-null int64\n",
      "winner          3921 non-null object\n",
      "inherit         3921 non-null int64\n",
      "viagra          3921 non-null int64\n",
      "password        3921 non-null int64\n",
      "num_char        3921 non-null float64\n",
      "line_breaks     3921 non-null int64\n",
      "format          3921 non-null int64\n",
      "re_subj         3921 non-null int64\n",
      "exclaim_subj    3921 non-null int64\n",
      "urgent_subj     3921 non-null int64\n",
      "exclaim_mess    3921 non-null int64\n",
      "number          3921 non-null object\n",
      "dtypes: float64(1), int64(17), object(3)\n",
      "memory usage: 643.4+ KB\n"
     ]
    }
   ],
   "source": [
    "data.info()"
   ]
  },
  {
   "cell_type": "code",
   "execution_count": 10,
   "metadata": {},
   "outputs": [
    {
     "data": {
      "text/plain": [
       "spam            0\n",
       "to_multiple     0\n",
       "from            0\n",
       "cc              0\n",
       "sent_email      0\n",
       "time            0\n",
       "image           0\n",
       "attach          0\n",
       "dollar          0\n",
       "winner          0\n",
       "inherit         0\n",
       "viagra          0\n",
       "password        0\n",
       "num_char        0\n",
       "line_breaks     0\n",
       "format          0\n",
       "re_subj         0\n",
       "exclaim_subj    0\n",
       "urgent_subj     0\n",
       "exclaim_mess    0\n",
       "number          0\n",
       "dtype: int64"
      ]
     },
     "execution_count": 10,
     "metadata": {},
     "output_type": "execute_result"
    }
   ],
   "source": [
    "data.isnull().sum()"
   ]
  },
  {
   "cell_type": "markdown",
   "metadata": {},
   "source": [
    "### from the above data information we can say that there is no Null in the given data and not required any imputation"
   ]
  },
  {
   "cell_type": "code",
   "execution_count": 11,
   "metadata": {},
   "outputs": [
    {
     "data": {
      "text/plain": [
       "<matplotlib.axes._subplots.AxesSubplot at 0x26613d731d0>"
      ]
     },
     "execution_count": 11,
     "metadata": {},
     "output_type": "execute_result"
    },
    {
     "data": {
      "image/png": "[encoded data removed]",
      "text/plain": [
       "<Figure size 432x288 with 2 Axes>"
      ]
     },
     "metadata": {},
     "output_type": "display_data"
    }
   ],
   "source": [
    "sns.heatmap(data.isnull())"
   ]
  },
  {
   "cell_type": "markdown",
   "metadata": {},
   "source": [
    "## Analysing the correlation between spam & other variables"
   ]
  },
  {
   "cell_type": "code",
   "execution_count": 12,
   "metadata": {},
   "outputs": [
    {
     "data": {
      "text/html": [
       "<div>\n",
       "<style scoped>\n",
       "    .dataframe tbody tr th:only-of-type {\n",
       "        vertical-align: middle;\n",
       "    }\n",
       "\n",
       "    .dataframe tbody tr th {\n",
       "        vertical-align: top;\n",
       "    }\n",
       "\n",
       "    .dataframe thead th {\n",
       "        text-align: right;\n",
       "    }\n",
       "</style>\n",
       "<table border=\"1\" class=\"dataframe\">\n",
       "  <thead>\n",
       "    <tr style=\"text-align: right;\">\n",
       "      <th></th>\n",
       "      <th>spam</th>\n",
       "      <th>to_multiple</th>\n",
       "      <th>from</th>\n",
       "      <th>cc</th>\n",
       "      <th>sent_email</th>\n",
       "      <th>image</th>\n",
       "      <th>attach</th>\n",
       "      <th>dollar</th>\n",
       "      <th>inherit</th>\n",
       "      <th>viagra</th>\n",
       "      <th>password</th>\n",
       "      <th>num_char</th>\n",
       "      <th>line_breaks</th>\n",
       "      <th>format</th>\n",
       "      <th>re_subj</th>\n",
       "      <th>exclaim_subj</th>\n",
       "      <th>urgent_subj</th>\n",
       "      <th>exclaim_mess</th>\n",
       "    </tr>\n",
       "  </thead>\n",
       "  <tbody>\n",
       "    <tr>\n",
       "      <th>spam</th>\n",
       "      <td>1.000000</td>\n",
       "      <td>-0.110468</td>\n",
       "      <td>-0.086110</td>\n",
       "      <td>0.003137</td>\n",
       "      <td>-0.199397</td>\n",
       "      <td>-0.030658</td>\n",
       "      <td>0.038069</td>\n",
       "      <td>-0.047161</td>\n",
       "      <td>0.026327</td>\n",
       "      <td>0.049703</td>\n",
       "      <td>-0.030731</td>\n",
       "      <td>-0.115588</td>\n",
       "      <td>-0.126659</td>\n",
       "      <td>-0.184799</td>\n",
       "      <td>-0.175236</td>\n",
       "      <td>0.001664</td>\n",
       "      <td>0.069377</td>\n",
       "      <td>0.004603</td>\n",
       "    </tr>\n",
       "    <tr>\n",
       "      <th>to_multiple</th>\n",
       "      <td>-0.110468</td>\n",
       "      <td>1.000000</td>\n",
       "      <td>0.011992</td>\n",
       "      <td>0.112534</td>\n",
       "      <td>-0.047360</td>\n",
       "      <td>0.108477</td>\n",
       "      <td>0.132925</td>\n",
       "      <td>-0.091827</td>\n",
       "      <td>-0.053653</td>\n",
       "      <td>-0.006922</td>\n",
       "      <td>-0.043729</td>\n",
       "      <td>-0.045046</td>\n",
       "      <td>-0.068109</td>\n",
       "      <td>-0.280999</td>\n",
       "      <td>-0.095569</td>\n",
       "      <td>0.031352</td>\n",
       "      <td>-0.001769</td>\n",
       "      <td>-0.031496</td>\n",
       "    </tr>\n",
       "    <tr>\n",
       "      <th>from</th>\n",
       "      <td>-0.086110</td>\n",
       "      <td>0.011992</td>\n",
       "      <td>1.000000</td>\n",
       "      <td>0.004198</td>\n",
       "      <td>0.017170</td>\n",
       "      <td>0.002974</td>\n",
       "      <td>0.005118</td>\n",
       "      <td>0.000738</td>\n",
       "      <td>0.003926</td>\n",
       "      <td>0.000442</td>\n",
       "      <td>0.003118</td>\n",
       "      <td>0.016367</td>\n",
       "      <td>0.017247</td>\n",
       "      <td>0.021755</td>\n",
       "      <td>0.016462</td>\n",
       "      <td>0.008178</td>\n",
       "      <td>0.001170</td>\n",
       "      <td>0.003360</td>\n",
       "    </tr>\n",
       "    <tr>\n",
       "      <th>cc</th>\n",
       "      <td>0.003137</td>\n",
       "      <td>0.112534</td>\n",
       "      <td>0.004198</td>\n",
       "      <td>1.000000</td>\n",
       "      <td>0.034186</td>\n",
       "      <td>0.029952</td>\n",
       "      <td>0.039714</td>\n",
       "      <td>-0.030308</td>\n",
       "      <td>-0.002596</td>\n",
       "      <td>-0.002423</td>\n",
       "      <td>-0.015100</td>\n",
       "      <td>-0.019594</td>\n",
       "      <td>-0.011207</td>\n",
       "      <td>-0.036500</td>\n",
       "      <td>0.070187</td>\n",
       "      <td>-0.013871</td>\n",
       "      <td>-0.006416</td>\n",
       "      <td>-0.006578</td>\n",
       "    </tr>\n",
       "    <tr>\n",
       "      <th>sent_email</th>\n",
       "      <td>-0.199397</td>\n",
       "      <td>-0.047360</td>\n",
       "      <td>0.017170</td>\n",
       "      <td>0.034186</td>\n",
       "      <td>1.000000</td>\n",
       "      <td>0.039377</td>\n",
       "      <td>0.026281</td>\n",
       "      <td>-0.071110</td>\n",
       "      <td>-0.068900</td>\n",
       "      <td>-0.009911</td>\n",
       "      <td>-0.029577</td>\n",
       "      <td>-0.106958</td>\n",
       "      <td>-0.039985</td>\n",
       "      <td>0.136283</td>\n",
       "      <td>0.649146</td>\n",
       "      <td>-0.068206</td>\n",
       "      <td>0.000729</td>\n",
       "      <td>-0.027581</td>\n",
       "    </tr>\n",
       "    <tr>\n",
       "      <th>image</th>\n",
       "      <td>-0.030658</td>\n",
       "      <td>0.108477</td>\n",
       "      <td>0.002974</td>\n",
       "      <td>0.029952</td>\n",
       "      <td>0.039377</td>\n",
       "      <td>1.000000</td>\n",
       "      <td>0.728237</td>\n",
       "      <td>-0.026563</td>\n",
       "      <td>-0.013137</td>\n",
       "      <td>-0.001717</td>\n",
       "      <td>0.017362</td>\n",
       "      <td>0.032246</td>\n",
       "      <td>0.044207</td>\n",
       "      <td>0.020779</td>\n",
       "      <td>-0.002148</td>\n",
       "      <td>0.009858</td>\n",
       "      <td>-0.004546</td>\n",
       "      <td>0.010738</td>\n",
       "    </tr>\n",
       "    <tr>\n",
       "      <th>attach</th>\n",
       "      <td>0.038069</td>\n",
       "      <td>0.132925</td>\n",
       "      <td>0.005118</td>\n",
       "      <td>0.039714</td>\n",
       "      <td>0.026281</td>\n",
       "      <td>0.728237</td>\n",
       "      <td>1.000000</td>\n",
       "      <td>-0.045768</td>\n",
       "      <td>-0.020937</td>\n",
       "      <td>-0.002954</td>\n",
       "      <td>-0.002344</td>\n",
       "      <td>-0.007783</td>\n",
       "      <td>0.001149</td>\n",
       "      <td>-0.037184</td>\n",
       "      <td>-0.035706</td>\n",
       "      <td>-0.011565</td>\n",
       "      <td>0.000588</td>\n",
       "      <td>0.005535</td>\n",
       "    </tr>\n",
       "    <tr>\n",
       "      <th>dollar</th>\n",
       "      <td>-0.047161</td>\n",
       "      <td>-0.091827</td>\n",
       "      <td>0.000738</td>\n",
       "      <td>-0.030308</td>\n",
       "      <td>-0.071110</td>\n",
       "      <td>-0.026563</td>\n",
       "      <td>-0.045768</td>\n",
       "      <td>1.000000</td>\n",
       "      <td>0.200291</td>\n",
       "      <td>0.001695</td>\n",
       "      <td>-0.019584</td>\n",
       "      <td>0.374507</td>\n",
       "      <td>0.363271</td>\n",
       "      <td>0.153180</td>\n",
       "      <td>-0.053157</td>\n",
       "      <td>0.160094</td>\n",
       "      <td>-0.005138</td>\n",
       "      <td>0.282941</td>\n",
       "    </tr>\n",
       "    <tr>\n",
       "      <th>inherit</th>\n",
       "      <td>0.026327</td>\n",
       "      <td>-0.053653</td>\n",
       "      <td>0.003926</td>\n",
       "      <td>-0.002596</td>\n",
       "      <td>-0.068900</td>\n",
       "      <td>-0.013137</td>\n",
       "      <td>-0.020937</td>\n",
       "      <td>0.200291</td>\n",
       "      <td>1.000000</td>\n",
       "      <td>-0.002266</td>\n",
       "      <td>-0.015983</td>\n",
       "      <td>0.030012</td>\n",
       "      <td>0.030758</td>\n",
       "      <td>0.083586</td>\n",
       "      <td>-0.071398</td>\n",
       "      <td>0.007110</td>\n",
       "      <td>0.016555</td>\n",
       "      <td>0.008489</td>\n",
       "    </tr>\n",
       "    <tr>\n",
       "      <th>viagra</th>\n",
       "      <td>0.049703</td>\n",
       "      <td>-0.006922</td>\n",
       "      <td>0.000442</td>\n",
       "      <td>-0.002423</td>\n",
       "      <td>-0.009911</td>\n",
       "      <td>-0.001717</td>\n",
       "      <td>-0.002954</td>\n",
       "      <td>0.001695</td>\n",
       "      <td>-0.002266</td>\n",
       "      <td>1.000000</td>\n",
       "      <td>-0.001799</td>\n",
       "      <td>-0.011026</td>\n",
       "      <td>-0.011089</td>\n",
       "      <td>0.010575</td>\n",
       "      <td>-0.009502</td>\n",
       "      <td>0.054040</td>\n",
       "      <td>-0.000675</td>\n",
       "      <td>-0.000802</td>\n",
       "    </tr>\n",
       "    <tr>\n",
       "      <th>password</th>\n",
       "      <td>-0.030731</td>\n",
       "      <td>-0.043729</td>\n",
       "      <td>0.003118</td>\n",
       "      <td>-0.015100</td>\n",
       "      <td>-0.029577</td>\n",
       "      <td>0.017362</td>\n",
       "      <td>-0.002344</td>\n",
       "      <td>-0.019584</td>\n",
       "      <td>-0.015983</td>\n",
       "      <td>-0.001799</td>\n",
       "      <td>1.000000</td>\n",
       "      <td>0.006371</td>\n",
       "      <td>-0.001260</td>\n",
       "      <td>0.034764</td>\n",
       "      <td>-0.034372</td>\n",
       "      <td>-0.010815</td>\n",
       "      <td>0.001530</td>\n",
       "      <td>0.002515</td>\n",
       "    </tr>\n",
       "    <tr>\n",
       "      <th>num_char</th>\n",
       "      <td>-0.115588</td>\n",
       "      <td>-0.045046</td>\n",
       "      <td>0.016367</td>\n",
       "      <td>-0.019594</td>\n",
       "      <td>-0.106958</td>\n",
       "      <td>0.032246</td>\n",
       "      <td>-0.007783</td>\n",
       "      <td>0.374507</td>\n",
       "      <td>0.030012</td>\n",
       "      <td>-0.011026</td>\n",
       "      <td>0.006371</td>\n",
       "      <td>1.000000</td>\n",
       "      <td>0.956865</td>\n",
       "      <td>0.293525</td>\n",
       "      <td>-0.074326</td>\n",
       "      <td>0.003296</td>\n",
       "      <td>-0.023315</td>\n",
       "      <td>0.508435</td>\n",
       "    </tr>\n",
       "    <tr>\n",
       "      <th>line_breaks</th>\n",
       "      <td>-0.126659</td>\n",
       "      <td>-0.068109</td>\n",
       "      <td>0.017247</td>\n",
       "      <td>-0.011207</td>\n",
       "      <td>-0.039985</td>\n",
       "      <td>0.044207</td>\n",
       "      <td>0.001149</td>\n",
       "      <td>0.363271</td>\n",
       "      <td>0.030758</td>\n",
       "      <td>-0.011089</td>\n",
       "      <td>-0.001260</td>\n",
       "      <td>0.956865</td>\n",
       "      <td>1.000000</td>\n",
       "      <td>0.321735</td>\n",
       "      <td>-0.020407</td>\n",
       "      <td>-0.012800</td>\n",
       "      <td>-0.024422</td>\n",
       "      <td>0.509084</td>\n",
       "    </tr>\n",
       "    <tr>\n",
       "      <th>format</th>\n",
       "      <td>-0.184799</td>\n",
       "      <td>-0.280999</td>\n",
       "      <td>0.021755</td>\n",
       "      <td>-0.036500</td>\n",
       "      <td>0.136283</td>\n",
       "      <td>0.020779</td>\n",
       "      <td>-0.037184</td>\n",
       "      <td>0.153180</td>\n",
       "      <td>0.083586</td>\n",
       "      <td>0.010575</td>\n",
       "      <td>0.034764</td>\n",
       "      <td>0.293525</td>\n",
       "      <td>0.321735</td>\n",
       "      <td>1.000000</td>\n",
       "      <td>0.083711</td>\n",
       "      <td>0.050964</td>\n",
       "      <td>0.001751</td>\n",
       "      <td>0.076997</td>\n",
       "    </tr>\n",
       "    <tr>\n",
       "      <th>re_subj</th>\n",
       "      <td>-0.175236</td>\n",
       "      <td>-0.095569</td>\n",
       "      <td>0.016462</td>\n",
       "      <td>0.070187</td>\n",
       "      <td>0.649146</td>\n",
       "      <td>-0.002148</td>\n",
       "      <td>-0.035706</td>\n",
       "      <td>-0.053157</td>\n",
       "      <td>-0.071398</td>\n",
       "      <td>-0.009502</td>\n",
       "      <td>-0.034372</td>\n",
       "      <td>-0.074326</td>\n",
       "      <td>-0.020407</td>\n",
       "      <td>0.083711</td>\n",
       "      <td>1.000000</td>\n",
       "      <td>-0.084015</td>\n",
       "      <td>0.016088</td>\n",
       "      <td>-0.027287</td>\n",
       "    </tr>\n",
       "    <tr>\n",
       "      <th>exclaim_subj</th>\n",
       "      <td>0.001664</td>\n",
       "      <td>0.031352</td>\n",
       "      <td>0.008178</td>\n",
       "      <td>-0.013871</td>\n",
       "      <td>-0.068206</td>\n",
       "      <td>0.009858</td>\n",
       "      <td>-0.011565</td>\n",
       "      <td>0.160094</td>\n",
       "      <td>0.007110</td>\n",
       "      <td>0.054040</td>\n",
       "      <td>-0.010815</td>\n",
       "      <td>0.003296</td>\n",
       "      <td>-0.012800</td>\n",
       "      <td>0.050964</td>\n",
       "      <td>-0.084015</td>\n",
       "      <td>1.000000</td>\n",
       "      <td>-0.012499</td>\n",
       "      <td>0.018574</td>\n",
       "    </tr>\n",
       "    <tr>\n",
       "      <th>urgent_subj</th>\n",
       "      <td>0.069377</td>\n",
       "      <td>-0.001769</td>\n",
       "      <td>0.001170</td>\n",
       "      <td>-0.006416</td>\n",
       "      <td>0.000729</td>\n",
       "      <td>-0.004546</td>\n",
       "      <td>0.000588</td>\n",
       "      <td>-0.005138</td>\n",
       "      <td>0.016555</td>\n",
       "      <td>-0.000675</td>\n",
       "      <td>0.001530</td>\n",
       "      <td>-0.023315</td>\n",
       "      <td>-0.024422</td>\n",
       "      <td>0.001751</td>\n",
       "      <td>0.016088</td>\n",
       "      <td>-0.012499</td>\n",
       "      <td>1.000000</td>\n",
       "      <td>-0.003766</td>\n",
       "    </tr>\n",
       "    <tr>\n",
       "      <th>exclaim_mess</th>\n",
       "      <td>0.004603</td>\n",
       "      <td>-0.031496</td>\n",
       "      <td>0.003360</td>\n",
       "      <td>-0.006578</td>\n",
       "      <td>-0.027581</td>\n",
       "      <td>0.010738</td>\n",
       "      <td>0.005535</td>\n",
       "      <td>0.282941</td>\n",
       "      <td>0.008489</td>\n",
       "      <td>-0.000802</td>\n",
       "      <td>0.002515</td>\n",
       "      <td>0.508435</td>\n",
       "      <td>0.509084</td>\n",
       "      <td>0.076997</td>\n",
       "      <td>-0.027287</td>\n",
       "      <td>0.018574</td>\n",
       "      <td>-0.003766</td>\n",
       "      <td>1.000000</td>\n",
       "    </tr>\n",
       "  </tbody>\n",
       "</table>\n",
       "</div>"
      ],
      "text/plain": [
       "                  spam  to_multiple      from        cc  sent_email     image  \\\n",
       "spam          1.000000    -0.110468 -0.086110  0.003137   -0.199397 -0.030658   \n",
       "to_multiple  -0.110468     1.000000  0.011992  0.112534   -0.047360  0.108477   \n",
       "from         -0.086110     0.011992  1.000000  0.004198    0.017170  0.002974   \n",
       "cc            0.003137     0.112534  0.004198  1.000000    0.034186  0.029952   \n",
       "sent_email   -0.199397    -0.047360  0.017170  0.034186    1.000000  0.039377   \n",
       "image        -0.030658     0.108477  0.002974  0.029952    0.039377  1.000000   \n",
       "attach        0.038069     0.132925  0.005118  0.039714    0.026281  0.728237   \n",
       "dollar       -0.047161    -0.091827  0.000738 -0.030308   -0.071110 -0.026563   \n",
       "inherit       0.026327    -0.053653  0.003926 -0.002596   -0.068900 -0.013137   \n",
       "viagra        0.049703    -0.006922  0.000442 -0.002423   -0.009911 -0.001717   \n",
       "password     -0.030731    -0.043729  0.003118 -0.015100   -0.029577  0.017362   \n",
       "num_char     -0.115588    -0.045046  0.016367 -0.019594   -0.106958  0.032246   \n",
       "line_breaks  -0.126659    -0.068109  0.017247 -0.011207   -0.039985  0.044207   \n",
       "format       -0.184799    -0.280999  0.021755 -0.036500    0.136283  0.020779   \n",
       "re_subj      -0.175236    -0.095569  0.016462  0.070187    0.649146 -0.002148   \n",
       "exclaim_subj  0.001664     0.031352  0.008178 -0.013871   -0.068206  0.009858   \n",
       "urgent_subj   0.069377    -0.001769  0.001170 -0.006416    0.000729 -0.004546   \n",
       "exclaim_mess  0.004603    -0.031496  0.003360 -0.006578   -0.027581  0.010738   \n",
       "\n",
       "                attach    dollar   inherit    viagra  password  num_char  \\\n",
       "spam          0.038069 -0.047161  0.026327  0.049703 -0.030731 -0.115588   \n",
       "to_multiple   0.132925 -0.091827 -0.053653 -0.006922 -0.043729 -0.045046   \n",
       "from          0.005118  0.000738  0.003926  0.000442  0.003118  0.016367   \n",
       "cc            0.039714 -0.030308 -0.002596 -0.002423 -0.015100 -0.019594   \n",
       "sent_email    0.026281 -0.071110 -0.068900 -0.009911 -0.029577 -0.106958   \n",
       "image         0.728237 -0.026563 -0.013137 -0.001717  0.017362  0.032246   \n",
       "attach        1.000000 -0.045768 -0.020937 -0.002954 -0.002344 -0.007783   \n",
       "dollar       -0.045768  1.000000  0.200291  0.001695 -0.019584  0.374507   \n",
       "inherit      -0.020937  0.200291  1.000000 -0.002266 -0.015983  0.030012   \n",
       "viagra       -0.002954  0.001695 -0.002266  1.000000 -0.001799 -0.011026   \n",
       "password     -0.002344 -0.019584 -0.015983 -0.001799  1.000000  0.006371   \n",
       "num_char     -0.007783  0.374507  0.030012 -0.011026  0.006371  1.000000   \n",
       "line_breaks   0.001149  0.363271  0.030758 -0.011089 -0.001260  0.956865   \n",
       "format       -0.037184  0.153180  0.083586  0.010575  0.034764  0.293525   \n",
       "re_subj      -0.035706 -0.053157 -0.071398 -0.009502 -0.034372 -0.074326   \n",
       "exclaim_subj -0.011565  0.160094  0.007110  0.054040 -0.010815  0.003296   \n",
       "urgent_subj   0.000588 -0.005138  0.016555 -0.000675  0.001530 -0.023315   \n",
       "exclaim_mess  0.005535  0.282941  0.008489 -0.000802  0.002515  0.508435   \n",
       "\n",
       "              line_breaks    format   re_subj  exclaim_subj  urgent_subj  \\\n",
       "spam            -0.126659 -0.184799 -0.175236      0.001664     0.069377   \n",
       "to_multiple     -0.068109 -0.280999 -0.095569      0.031352    -0.001769   \n",
       "from             0.017247  0.021755  0.016462      0.008178     0.001170   \n",
       "cc              -0.011207 -0.036500  0.070187     -0.013871    -0.006416   \n",
       "sent_email      -0.039985  0.136283  0.649146     -0.068206     0.000729   \n",
       "image            0.044207  0.020779 -0.002148      0.009858    -0.004546   \n",
       "attach           0.001149 -0.037184 -0.035706     -0.011565     0.000588   \n",
       "dollar           0.363271  0.153180 -0.053157      0.160094    -0.005138   \n",
       "inherit          0.030758  0.083586 -0.071398      0.007110     0.016555   \n",
       "viagra          -0.011089  0.010575 -0.009502      0.054040    -0.000675   \n",
       "password        -0.001260  0.034764 -0.034372     -0.010815     0.001530   \n",
       "num_char         0.956865  0.293525 -0.074326      0.003296    -0.023315   \n",
       "line_breaks      1.000000  0.321735 -0.020407     -0.012800    -0.024422   \n",
       "format           0.321735  1.000000  0.083711      0.050964     0.001751   \n",
       "re_subj         -0.020407  0.083711  1.000000     -0.084015     0.016088   \n",
       "exclaim_subj    -0.012800  0.050964 -0.084015      1.000000    -0.012499   \n",
       "urgent_subj     -0.024422  0.001751  0.016088     -0.012499     1.000000   \n",
       "exclaim_mess     0.509084  0.076997 -0.027287      0.018574    -0.003766   \n",
       "\n",
       "              exclaim_mess  \n",
       "spam              0.004603  \n",
       "to_multiple      -0.031496  \n",
       "from              0.003360  \n",
       "cc               -0.006578  \n",
       "sent_email       -0.027581  \n",
       "image             0.010738  \n",
       "attach            0.005535  \n",
       "dollar            0.282941  \n",
       "inherit           0.008489  \n",
       "viagra           -0.000802  \n",
       "password          0.002515  \n",
       "num_char          0.508435  \n",
       "line_breaks       0.509084  \n",
       "format            0.076997  \n",
       "re_subj          -0.027287  \n",
       "exclaim_subj      0.018574  \n",
       "urgent_subj      -0.003766  \n",
       "exclaim_mess      1.000000  "
      ]
     },
     "execution_count": 12,
     "metadata": {},
     "output_type": "execute_result"
    }
   ],
   "source": [
    "data.corr()"
   ]
  },
  {
   "cell_type": "code",
   "execution_count": 13,
   "metadata": {},
   "outputs": [
    {
     "data": {
      "image/png": "[encoded data removed]",
      "text/plain": [
       "<Figure size 1080x720 with 2 Axes>"
      ]
     },
     "metadata": {},
     "output_type": "display_data"
    }
   ],
   "source": [
    "plt.figure(figsize = (15,10))\n",
    "sns.heatmap(data.corr())\n",
    "plt.show()"
   ]
  },
  {
   "cell_type": "markdown",
   "metadata": {},
   "source": [
    "## Data Wrangling"
   ]
  },
  {
   "cell_type": "code",
   "execution_count": 14,
   "metadata": {},
   "outputs": [],
   "source": [
    "data.drop('time',axis = 1, inplace = True)"
   ]
  },
  {
   "cell_type": "code",
   "execution_count": 15,
   "metadata": {},
   "outputs": [],
   "source": [
    "number = pd.get_dummies(data['number'],drop_first= True)\n",
    "winner = pd.get_dummies(data['winner'],drop_first= True)"
   ]
  },
  {
   "cell_type": "code",
   "execution_count": 16,
   "metadata": {},
   "outputs": [],
   "source": [
    "data = pd.concat([data,number,winner],axis = 1)"
   ]
  },
  {
   "cell_type": "code",
   "execution_count": 17,
   "metadata": {},
   "outputs": [
    {
     "data": {
      "text/html": [
       "<div>\n",
       "<style scoped>\n",
       "    .dataframe tbody tr th:only-of-type {\n",
       "        vertical-align: middle;\n",
       "    }\n",
       "\n",
       "    .dataframe tbody tr th {\n",
       "        vertical-align: top;\n",
       "    }\n",
       "\n",
       "    .dataframe thead th {\n",
       "        text-align: right;\n",
       "    }\n",
       "</style>\n",
       "<table border=\"1\" class=\"dataframe\">\n",
       "  <thead>\n",
       "    <tr style=\"text-align: right;\">\n",
       "      <th></th>\n",
       "      <th>spam</th>\n",
       "      <th>to_multiple</th>\n",
       "      <th>from</th>\n",
       "      <th>cc</th>\n",
       "      <th>sent_email</th>\n",
       "      <th>image</th>\n",
       "      <th>attach</th>\n",
       "      <th>dollar</th>\n",
       "      <th>winner</th>\n",
       "      <th>inherit</th>\n",
       "      <th>...</th>\n",
       "      <th>line_breaks</th>\n",
       "      <th>format</th>\n",
       "      <th>re_subj</th>\n",
       "      <th>exclaim_subj</th>\n",
       "      <th>urgent_subj</th>\n",
       "      <th>exclaim_mess</th>\n",
       "      <th>number</th>\n",
       "      <th>none</th>\n",
       "      <th>small</th>\n",
       "      <th>yes</th>\n",
       "    </tr>\n",
       "  </thead>\n",
       "  <tbody>\n",
       "    <tr>\n",
       "      <th>0</th>\n",
       "      <td>0</td>\n",
       "      <td>0</td>\n",
       "      <td>1</td>\n",
       "      <td>0</td>\n",
       "      <td>0</td>\n",
       "      <td>0</td>\n",
       "      <td>0</td>\n",
       "      <td>0</td>\n",
       "      <td>no</td>\n",
       "      <td>0</td>\n",
       "      <td>...</td>\n",
       "      <td>202</td>\n",
       "      <td>1</td>\n",
       "      <td>0</td>\n",
       "      <td>0</td>\n",
       "      <td>0</td>\n",
       "      <td>0</td>\n",
       "      <td>big</td>\n",
       "      <td>0</td>\n",
       "      <td>0</td>\n",
       "      <td>0</td>\n",
       "    </tr>\n",
       "    <tr>\n",
       "      <th>1</th>\n",
       "      <td>0</td>\n",
       "      <td>0</td>\n",
       "      <td>1</td>\n",
       "      <td>0</td>\n",
       "      <td>0</td>\n",
       "      <td>0</td>\n",
       "      <td>0</td>\n",
       "      <td>0</td>\n",
       "      <td>no</td>\n",
       "      <td>0</td>\n",
       "      <td>...</td>\n",
       "      <td>202</td>\n",
       "      <td>1</td>\n",
       "      <td>0</td>\n",
       "      <td>0</td>\n",
       "      <td>0</td>\n",
       "      <td>1</td>\n",
       "      <td>small</td>\n",
       "      <td>0</td>\n",
       "      <td>1</td>\n",
       "      <td>0</td>\n",
       "    </tr>\n",
       "    <tr>\n",
       "      <th>2</th>\n",
       "      <td>0</td>\n",
       "      <td>0</td>\n",
       "      <td>1</td>\n",
       "      <td>0</td>\n",
       "      <td>0</td>\n",
       "      <td>0</td>\n",
       "      <td>0</td>\n",
       "      <td>4</td>\n",
       "      <td>no</td>\n",
       "      <td>1</td>\n",
       "      <td>...</td>\n",
       "      <td>192</td>\n",
       "      <td>1</td>\n",
       "      <td>0</td>\n",
       "      <td>0</td>\n",
       "      <td>0</td>\n",
       "      <td>6</td>\n",
       "      <td>small</td>\n",
       "      <td>0</td>\n",
       "      <td>1</td>\n",
       "      <td>0</td>\n",
       "    </tr>\n",
       "    <tr>\n",
       "      <th>3</th>\n",
       "      <td>0</td>\n",
       "      <td>0</td>\n",
       "      <td>1</td>\n",
       "      <td>0</td>\n",
       "      <td>0</td>\n",
       "      <td>0</td>\n",
       "      <td>0</td>\n",
       "      <td>0</td>\n",
       "      <td>no</td>\n",
       "      <td>0</td>\n",
       "      <td>...</td>\n",
       "      <td>255</td>\n",
       "      <td>1</td>\n",
       "      <td>0</td>\n",
       "      <td>0</td>\n",
       "      <td>0</td>\n",
       "      <td>48</td>\n",
       "      <td>small</td>\n",
       "      <td>0</td>\n",
       "      <td>1</td>\n",
       "      <td>0</td>\n",
       "    </tr>\n",
       "    <tr>\n",
       "      <th>4</th>\n",
       "      <td>0</td>\n",
       "      <td>0</td>\n",
       "      <td>1</td>\n",
       "      <td>0</td>\n",
       "      <td>0</td>\n",
       "      <td>0</td>\n",
       "      <td>0</td>\n",
       "      <td>0</td>\n",
       "      <td>no</td>\n",
       "      <td>0</td>\n",
       "      <td>...</td>\n",
       "      <td>29</td>\n",
       "      <td>0</td>\n",
       "      <td>0</td>\n",
       "      <td>0</td>\n",
       "      <td>0</td>\n",
       "      <td>1</td>\n",
       "      <td>none</td>\n",
       "      <td>1</td>\n",
       "      <td>0</td>\n",
       "      <td>0</td>\n",
       "    </tr>\n",
       "  </tbody>\n",
       "</table>\n",
       "<p>5 rows × 23 columns</p>\n",
       "</div>"
      ],
      "text/plain": [
       "   spam  to_multiple  from  cc  sent_email  image  attach  dollar winner  \\\n",
       "0     0            0     1   0           0      0       0       0     no   \n",
       "1     0            0     1   0           0      0       0       0     no   \n",
       "2     0            0     1   0           0      0       0       4     no   \n",
       "3     0            0     1   0           0      0       0       0     no   \n",
       "4     0            0     1   0           0      0       0       0     no   \n",
       "\n",
       "   inherit ...  line_breaks  format  re_subj  exclaim_subj  urgent_subj  \\\n",
       "0        0 ...          202       1        0             0            0   \n",
       "1        0 ...          202       1        0             0            0   \n",
       "2        1 ...          192       1        0             0            0   \n",
       "3        0 ...          255       1        0             0            0   \n",
       "4        0 ...           29       0        0             0            0   \n",
       "\n",
       "   exclaim_mess  number  none  small yes  \n",
       "0             0     big     0      0   0  \n",
       "1             1   small     0      1   0  \n",
       "2             6   small     0      1   0  \n",
       "3            48   small     0      1   0  \n",
       "4             1    none     1      0   0  \n",
       "\n",
       "[5 rows x 23 columns]"
      ]
     },
     "execution_count": 17,
     "metadata": {},
     "output_type": "execute_result"
    }
   ],
   "source": [
    "data.head()"
   ]
  },
  {
   "cell_type": "code",
   "execution_count": 18,
   "metadata": {},
   "outputs": [],
   "source": [
    "data.drop(['number','winner','line_breaks','num_char'],axis = 1, inplace = True)"
   ]
  },
  {
   "cell_type": "code",
   "execution_count": 19,
   "metadata": {},
   "outputs": [
    {
     "data": {
      "text/html": [
       "<div>\n",
       "<style scoped>\n",
       "    .dataframe tbody tr th:only-of-type {\n",
       "        vertical-align: middle;\n",
       "    }\n",
       "\n",
       "    .dataframe tbody tr th {\n",
       "        vertical-align: top;\n",
       "    }\n",
       "\n",
       "    .dataframe thead th {\n",
       "        text-align: right;\n",
       "    }\n",
       "</style>\n",
       "<table border=\"1\" class=\"dataframe\">\n",
       "  <thead>\n",
       "    <tr style=\"text-align: right;\">\n",
       "      <th></th>\n",
       "      <th>spam</th>\n",
       "      <th>to_multiple</th>\n",
       "      <th>from</th>\n",
       "      <th>cc</th>\n",
       "      <th>sent_email</th>\n",
       "      <th>image</th>\n",
       "      <th>attach</th>\n",
       "      <th>dollar</th>\n",
       "      <th>inherit</th>\n",
       "      <th>viagra</th>\n",
       "      <th>password</th>\n",
       "      <th>format</th>\n",
       "      <th>re_subj</th>\n",
       "      <th>exclaim_subj</th>\n",
       "      <th>urgent_subj</th>\n",
       "      <th>exclaim_mess</th>\n",
       "      <th>none</th>\n",
       "      <th>small</th>\n",
       "      <th>yes</th>\n",
       "    </tr>\n",
       "  </thead>\n",
       "  <tbody>\n",
       "    <tr>\n",
       "      <th>0</th>\n",
       "      <td>0</td>\n",
       "      <td>0</td>\n",
       "      <td>1</td>\n",
       "      <td>0</td>\n",
       "      <td>0</td>\n",
       "      <td>0</td>\n",
       "      <td>0</td>\n",
       "      <td>0</td>\n",
       "      <td>0</td>\n",
       "      <td>0</td>\n",
       "      <td>0</td>\n",
       "      <td>1</td>\n",
       "      <td>0</td>\n",
       "      <td>0</td>\n",
       "      <td>0</td>\n",
       "      <td>0</td>\n",
       "      <td>0</td>\n",
       "      <td>0</td>\n",
       "      <td>0</td>\n",
       "    </tr>\n",
       "    <tr>\n",
       "      <th>1</th>\n",
       "      <td>0</td>\n",
       "      <td>0</td>\n",
       "      <td>1</td>\n",
       "      <td>0</td>\n",
       "      <td>0</td>\n",
       "      <td>0</td>\n",
       "      <td>0</td>\n",
       "      <td>0</td>\n",
       "      <td>0</td>\n",
       "      <td>0</td>\n",
       "      <td>0</td>\n",
       "      <td>1</td>\n",
       "      <td>0</td>\n",
       "      <td>0</td>\n",
       "      <td>0</td>\n",
       "      <td>1</td>\n",
       "      <td>0</td>\n",
       "      <td>1</td>\n",
       "      <td>0</td>\n",
       "    </tr>\n",
       "    <tr>\n",
       "      <th>2</th>\n",
       "      <td>0</td>\n",
       "      <td>0</td>\n",
       "      <td>1</td>\n",
       "      <td>0</td>\n",
       "      <td>0</td>\n",
       "      <td>0</td>\n",
       "      <td>0</td>\n",
       "      <td>4</td>\n",
       "      <td>1</td>\n",
       "      <td>0</td>\n",
       "      <td>0</td>\n",
       "      <td>1</td>\n",
       "      <td>0</td>\n",
       "      <td>0</td>\n",
       "      <td>0</td>\n",
       "      <td>6</td>\n",
       "      <td>0</td>\n",
       "      <td>1</td>\n",
       "      <td>0</td>\n",
       "    </tr>\n",
       "    <tr>\n",
       "      <th>3</th>\n",
       "      <td>0</td>\n",
       "      <td>0</td>\n",
       "      <td>1</td>\n",
       "      <td>0</td>\n",
       "      <td>0</td>\n",
       "      <td>0</td>\n",
       "      <td>0</td>\n",
       "      <td>0</td>\n",
       "      <td>0</td>\n",
       "      <td>0</td>\n",
       "      <td>0</td>\n",
       "      <td>1</td>\n",
       "      <td>0</td>\n",
       "      <td>0</td>\n",
       "      <td>0</td>\n",
       "      <td>48</td>\n",
       "      <td>0</td>\n",
       "      <td>1</td>\n",
       "      <td>0</td>\n",
       "    </tr>\n",
       "    <tr>\n",
       "      <th>4</th>\n",
       "      <td>0</td>\n",
       "      <td>0</td>\n",
       "      <td>1</td>\n",
       "      <td>0</td>\n",
       "      <td>0</td>\n",
       "      <td>0</td>\n",
       "      <td>0</td>\n",
       "      <td>0</td>\n",
       "      <td>0</td>\n",
       "      <td>0</td>\n",
       "      <td>2</td>\n",
       "      <td>0</td>\n",
       "      <td>0</td>\n",
       "      <td>0</td>\n",
       "      <td>0</td>\n",
       "      <td>1</td>\n",
       "      <td>1</td>\n",
       "      <td>0</td>\n",
       "      <td>0</td>\n",
       "    </tr>\n",
       "  </tbody>\n",
       "</table>\n",
       "</div>"
      ],
      "text/plain": [
       "   spam  to_multiple  from  cc  sent_email  image  attach  dollar  inherit  \\\n",
       "0     0            0     1   0           0      0       0       0        0   \n",
       "1     0            0     1   0           0      0       0       0        0   \n",
       "2     0            0     1   0           0      0       0       4        1   \n",
       "3     0            0     1   0           0      0       0       0        0   \n",
       "4     0            0     1   0           0      0       0       0        0   \n",
       "\n",
       "   viagra  password  format  re_subj  exclaim_subj  urgent_subj  exclaim_mess  \\\n",
       "0       0         0       1        0             0            0             0   \n",
       "1       0         0       1        0             0            0             1   \n",
       "2       0         0       1        0             0            0             6   \n",
       "3       0         0       1        0             0            0            48   \n",
       "4       0         2       0        0             0            0             1   \n",
       "\n",
       "   none  small  yes  \n",
       "0     0      0    0  \n",
       "1     0      1    0  \n",
       "2     0      1    0  \n",
       "3     0      1    0  \n",
       "4     1      0    0  "
      ]
     },
     "execution_count": 19,
     "metadata": {},
     "output_type": "execute_result"
    }
   ],
   "source": [
    "data.head()"
   ]
  },
  {
   "cell_type": "markdown",
   "metadata": {},
   "source": [
    "## Train Data"
   ]
  },
  {
   "cell_type": "code",
   "execution_count": 20,
   "metadata": {},
   "outputs": [],
   "source": [
    "np.random.seed(420)\n",
    "Test = data.sample(1200)\n",
    "Train = data[~data.isin(Test)]\n",
    "Train.dropna(inplace = True)"
   ]
  },
  {
   "cell_type": "markdown",
   "metadata": {},
   "source": [
    "## Activation Function"
   ]
  },
  {
   "cell_type": "code",
   "execution_count": 21,
   "metadata": {},
   "outputs": [],
   "source": [
    "def sigmoid(x):\n",
    "  return 1/(1+np.exp(-x))"
   ]
  },
  {
   "cell_type": "markdown",
   "metadata": {},
   "source": [
    "## Split Training Data"
   ]
  },
  {
   "cell_type": "code",
   "execution_count": 22,
   "metadata": {},
   "outputs": [],
   "source": [
    "x_train = Train.drop('spam' , axis = 1)\n",
    "y_train = Train['spam']\n",
    "x_test = Test.drop('spam', axis = 1)\n",
    "y_test = Test['spam']"
   ]
  },
  {
   "cell_type": "markdown",
   "metadata": {},
   "source": [
    "## Coverting the Test & Train Data into Numpy Array for Building Model"
   ]
  },
  {
   "cell_type": "code",
   "execution_count": 23,
   "metadata": {},
   "outputs": [],
   "source": [
    "x_train = np.array(x_train,dtype = 'int64')\n",
    "x_test = np.array(x_test,dtype = 'int64')\n",
    "\n",
    "y_train = np.array(y_train,dtype = 'int64')\n",
    "y_test = np.array(y_test,dtype = 'int64')"
   ]
  },
  {
   "cell_type": "code",
   "execution_count": 24,
   "metadata": {},
   "outputs": [
    {
     "name": "stdout",
     "output_type": "stream",
     "text": [
      "The shape of the Xs Testing Data before re-shaping: (1200, 18)\n",
      "The shape of the Xs Training Data before re-shaping: (2721, 18)\n",
      "The shape of the Ys Testing Data before re-shaping: (1200,)\n",
      "The shape of the Ys Training Data before re-shaping: (2721,)\n"
     ]
    }
   ],
   "source": [
    "print('The shape of the Xs Testing Data before re-shaping:',x_test.shape)\n",
    "print('The shape of the Xs Training Data before re-shaping:',x_train.shape)\n",
    "\n",
    "print('The shape of the Ys Testing Data before re-shaping:',y_test.shape)\n",
    "print('The shape of the Ys Training Data before re-shaping:',y_train.shape)"
   ]
  },
  {
   "cell_type": "markdown",
   "metadata": {},
   "source": [
    "## Reshaping the data"
   ]
  },
  {
   "cell_type": "code",
   "execution_count": 25,
   "metadata": {},
   "outputs": [
    {
     "name": "stdout",
     "output_type": "stream",
     "text": [
      "The shape of the Xs Testing Data after re-shaping: (18, 1200)\n",
      "The shape of the Xs Training Data after re-shaping: (18, 2721)\n",
      "The shape of the Ys Testing Data after re-shaping: (1, 1200)\n",
      "The shape of the Ys Training Data after re-shaping: (1, 2721)\n"
     ]
    }
   ],
   "source": [
    "x_train = x_train.T\n",
    "y_train = y_train.reshape(1,x_train.shape[1])\n",
    "\n",
    "x_test = x_test.T\n",
    "y_test = y_test.reshape(1,x_test.shape[1])\n",
    "\n",
    "print('The shape of the Xs Testing Data after re-shaping:',x_test.shape)\n",
    "print('The shape of the Xs Training Data after re-shaping:',x_train.shape)\n",
    "\n",
    "print('The shape of the Ys Testing Data after re-shaping:',y_test.shape)\n",
    "print('The shape of the Ys Training Data after re-shaping:',y_train.shape)"
   ]
  },
  {
   "cell_type": "markdown",
   "metadata": {},
   "source": [
    "## Building Logistic Regression Model from Scratch"
   ]
  },
  {
   "cell_type": "code",
   "execution_count": 26,
   "metadata": {},
   "outputs": [],
   "source": [
    "def logistic_regression(x,y,learning_rate,epochs):\n",
    "    m = x.shape[1]\n",
    "    n = x.shape[0]\n",
    "    \n",
    "    w = np.zeros((n,1))\n",
    "    b = 0\n",
    "    \n",
    "    cost_list = []\n",
    "    \n",
    "    for i in range(epochs):\n",
    "        Z = np.dot(w.T ,x) + b\n",
    "        A = sigmoid(Z)\n",
    "        \n",
    "        #Cost Function\n",
    "        cost = -(1/m)*np.sum( y*np.log(A) + (1-y)*np.log(1-A))\n",
    "        \n",
    "        #Gradient descent\n",
    "        dw = (1/m) * np.dot(x,(A-y).T)\n",
    "        db = (1/m) * np.sum(A-y)\n",
    "        \n",
    "        #Updating weights & bias\n",
    "        w = w - learning_rate*dw\n",
    "        b = b - learning_rate*db\n",
    "        \n",
    "        cost_list.append(cost)\n",
    "        \n",
    "        if (i%(epochs/10) ==0):\n",
    "            print('Cost after',i,'Iteration is',cost)\n",
    "    return w,b,cost_list"
   ]
  },
  {
   "cell_type": "markdown",
   "metadata": {},
   "source": [
    "## Running the Model"
   ]
  },
  {
   "cell_type": "code",
   "execution_count": 27,
   "metadata": {},
   "outputs": [
    {
     "name": "stdout",
     "output_type": "stream",
     "text": [
      "Cost after 0 Iteration is 0.6931471805599454\n",
      "Cost after 2000 Iteration is 0.27876013595398036\n",
      "Cost after 4000 Iteration is 0.26876832497569836\n",
      "Cost after 6000 Iteration is 0.2624245985454812\n",
      "Cost after 8000 Iteration is 0.257795535461465\n",
      "Cost after 10000 Iteration is 0.2542385888037998\n",
      "Cost after 12000 Iteration is 0.2513974397404919\n",
      "Cost after 14000 Iteration is 0.24906210297799436\n",
      "Cost after 16000 Iteration is 0.24710087864400582\n",
      "Cost after 18000 Iteration is 0.24542643780915332\n"
     ]
    }
   ],
   "source": [
    "w,b,cost_list = logistic_regression(x_train,y_train,0.005,20000)"
   ]
  },
  {
   "cell_type": "markdown",
   "metadata": {},
   "source": [
    "## Cost function plotting"
   ]
  },
  {
   "cell_type": "code",
   "execution_count": 28,
   "metadata": {},
   "outputs": [
    {
     "data": {
      "image/png": "[encoded data removed]",
      "text/plain": [
       "<Figure size 432x288 with 1 Axes>"
      ]
     },
     "metadata": {},
     "output_type": "display_data"
    }
   ],
   "source": [
    "plt.plot(np.arange(20000),cost_list)\n",
    "plt.xlabel('epochs')\n",
    "plt.ylabel('Cost function Value')\n",
    "plt.show()"
   ]
  },
  {
   "cell_type": "markdown",
   "metadata": {},
   "source": [
    "### The above cost function plot shows that as the iteration increases the cost function decreases which means the Model is learning better and provide more accuarte results"
   ]
  },
  {
   "cell_type": "markdown",
   "metadata": {},
   "source": [
    "## Testing Model Accuracy"
   ]
  },
  {
   "cell_type": "code",
   "execution_count": 29,
   "metadata": {},
   "outputs": [],
   "source": [
    "def accuracy(x,y,w,b,thre):\n",
    "    z = np.dot(w.T,x) + b\n",
    "    a = sigmoid(z)\n",
    "    c = a > thre\n",
    "    a = np.array(c,dtype = 'int64')\n",
    "    correct_prediction = y.shape[1]- np.sum(np.absolute(a - y))\n",
    "    Accuracy = (correct_prediction/y.shape[1])*100\n",
    "    print('correct prediction score:',correct_prediction)\n",
    "    print('Accuracy of the Model:',Accuracy)  \n",
    "    return a"
   ]
  },
  {
   "cell_type": "code",
   "execution_count": 30,
   "metadata": {},
   "outputs": [
    {
     "name": "stdout",
     "output_type": "stream",
     "text": [
      "correct prediction score: 1095\n",
      "Accuracy of the Model: 91.25\n",
      "[[0 1 0 ... 0 0 0]]\n"
     ]
    }
   ],
   "source": [
    "a = accuracy(x_test,y_test,w,b,0.2)\n",
    "print(a)"
   ]
  },
  {
   "cell_type": "markdown",
   "metadata": {},
   "source": [
    "## Sensitivity & Specificity"
   ]
  },
  {
   "cell_type": "code",
   "execution_count": 31,
   "metadata": {},
   "outputs": [
    {
     "name": "stdout",
     "output_type": "stream",
     "text": [
      "True Positive score : 1043\n",
      "False Negative score : 54\n",
      "True Negative score : 52\n",
      "False Positive score : 51\n",
      "\n",
      "Sensitivity : 0.95077484047402\n",
      "Specificity : 0.5048543689320388\n"
     ]
    }
   ],
   "source": [
    "act_pos_pred_pos = 0\n",
    "act_pos_pred_neg = 0\n",
    "act_neg_pred_neg = 0\n",
    "act_neg_pred_pos = 0\n",
    "\n",
    "for i in range(y_test.shape[1]):\n",
    "    if a[:,i] == y_test[:,i] & y_test[:,i] == 0:\n",
    "        act_pos_pred_pos = act_pos_pred_pos + 1\n",
    "    if a[:,i] != y_test[:,i] & y_test[:,i] == 0:\n",
    "        act_pos_pred_neg = act_pos_pred_neg + 1\n",
    "    if a[:,i] == y_test[:,i] & y_test[:,i] == 1:\n",
    "        act_neg_pred_neg = act_neg_pred_neg + 1\n",
    "    if a[:,i] != y_test[:,i] & y_test[:,i] == 1:\n",
    "        act_neg_pred_pos = act_neg_pred_pos + 1\n",
    "\n",
    "print('True Positive score :',act_pos_pred_pos)\n",
    "print('False Negative score :',act_pos_pred_neg)\n",
    "print('True Negative score :',act_neg_pred_neg)\n",
    "print('False Positive score :',act_neg_pred_pos)\n",
    "\n",
    "sensitivity = act_pos_pred_pos/(act_pos_pred_pos + act_pos_pred_neg)\n",
    "specificity = act_neg_pred_neg/(act_neg_pred_neg + act_neg_pred_pos)\n",
    "\n",
    "print('\\nSensitivity :', sensitivity)\n",
    "print('Specificity :', specificity)\n"
   ]
  },
  {
   "cell_type": "markdown",
   "metadata": {},
   "source": [
    "## AUC & ROC Curve"
   ]
  },
  {
   "cell_type": "code",
   "execution_count": 32,
   "metadata": {},
   "outputs": [
    {
     "name": "stdout",
     "output_type": "stream",
     "text": [
      "The True Positive Rate for Given Threshold are: [0.8185961713764813, 0.95077484047402, 0.9735642661804923, 0.9945305378304466, 0.9963536918869644]\n",
      "\n",
      "The False Positive Rate  Given Threshold are: [0.27184466019417475, 0.49514563106796117, 0.6796116504854369, 0.9029126213592233, 0.9611650485436893]\n",
      "\n",
      "The Sensitivity for Given Threshold are: [0.8185961713764813, 0.95077484047402, 0.9735642661804923, 0.9945305378304466, 0.9963536918869644]\n",
      "\n",
      "The Specificity for  Given Threshold are: [0.7281553398058253, 0.5048543689320388, 0.32038834951456313, 0.0970873786407767, 0.038834951456310676]\n"
     ]
    }
   ],
   "source": [
    "Threshold = [0.1,0.2,0.3,0.4,0.5]\n",
    "tpr = []\n",
    "fpr = []\n",
    "sen = []\n",
    "spe = []\n",
    "\n",
    "for j in Threshold:\n",
    "    z = np.dot(w.T,x_test) + b\n",
    "    a = sigmoid(z)\n",
    "    c = a > j\n",
    "    a = np.array(c,dtype = 'int64')\n",
    "\n",
    "    act_pos_pred_pos = 0\n",
    "    act_pos_pred_neg = 0\n",
    "    act_neg_pred_neg = 0\n",
    "    act_neg_pred_pos = 0\n",
    "    sensitivity = specificity = 0\n",
    "    for i in range(y_test.shape[1]):\n",
    "        if a[:,i] == y_test[:,i] & y_test[:,i] == 0:\n",
    "            act_pos_pred_pos = act_pos_pred_pos + 1\n",
    "        if a[:,i] != y_test[:,i] & y_test[:,i] == 0:\n",
    "            act_pos_pred_neg = act_pos_pred_neg + 1\n",
    "        if a[:,i] == y_test[:,i] & y_test[:,i] == 1:\n",
    "            act_neg_pred_neg = act_neg_pred_neg + 1\n",
    "        if a[:,i] != y_test[:,i] & y_test[:,i] == 1:\n",
    "            act_neg_pred_pos = act_neg_pred_pos + 1\n",
    "      \n",
    "    true_pos_rate = act_pos_pred_pos/(act_pos_pred_pos + act_pos_pred_neg)\n",
    "    false_pos_rate = act_neg_pred_pos/(act_neg_pred_pos + act_neg_pred_neg)\n",
    "    \n",
    "    sensitivity = act_pos_pred_pos/(act_pos_pred_pos + act_pos_pred_neg)\n",
    "    specificity = act_neg_pred_neg/(act_neg_pred_neg + act_neg_pred_pos)\n",
    "\n",
    "\n",
    "    tpr.append(true_pos_rate)\n",
    "    fpr.append(false_pos_rate)\n",
    "    spe.append(specificity)\n",
    "    sen.append(sensitivity)\n",
    "    \n",
    "print('The True Positive Rate for Given Threshold are:',tpr)\n",
    "print('\\nThe False Positive Rate  Given Threshold are:',fpr)\n",
    "\n",
    "print('\\nThe Sensitivity for Given Threshold are:',sen)\n",
    "print('\\nThe Specificity for  Given Threshold are:',spe)\n"
   ]
  },
  {
   "cell_type": "code",
   "execution_count": 33,
   "metadata": {},
   "outputs": [
    {
     "data": {
      "image/png": "[encoded data removed]",
      "text/plain": [
       "<Figure size 432x288 with 1 Axes>"
      ]
     },
     "metadata": {},
     "output_type": "display_data"
    }
   ],
   "source": [
    "sns.scatterplot(x=spe,y=sen)\n",
    "plt.xlabel('Specificity')\n",
    "plt.ylabel('Sensitivity')\n",
    "plt.show()"
   ]
  },
  {
   "cell_type": "code",
   "execution_count": 34,
   "metadata": {},
   "outputs": [
    {
     "name": "stdout",
     "output_type": "stream",
     "text": [
      "AUC : 0.6527643794638511\n"
     ]
    },
    {
     "data": {
      "text/plain": [
       "Text(0,0.5,'True Positive Rate')"
      ]
     },
     "execution_count": 34,
     "metadata": {},
     "output_type": "execute_result"
    },
    {
     "data": {
      "image/png": "[encoded data removed]",
      "text/plain": [
       "<Figure size 576x432 with 1 Axes>"
      ]
     },
     "metadata": {},
     "output_type": "display_data"
    }
   ],
   "source": [
    "auc = np.trapz(tpr,fpr)\n",
    "print('AUC :', auc)\n",
    "plt.figure(figsize = (8,6))\n",
    "plt.plot(fpr,tpr,'.-')\n",
    "plt.plot([0,1],[0,1],'k--')\n",
    "plt.plot([0],[1],'r',markersize = 15)\n",
    "plt.xlabel('False Positive Rate')\n",
    "plt.ylabel('True Positive Rate')\n"
   ]
  },
  {
   "cell_type": "markdown",
   "metadata": {},
   "source": [
    "## Building Logistic Regression model using Sklearn Library "
   ]
  },
  {
   "cell_type": "code",
   "execution_count": 36,
   "metadata": {},
   "outputs": [],
   "source": [
    "data_set = data.drop('spam', axis  = 1)\n",
    "data_target = data['spam']"
   ]
  },
  {
   "cell_type": "code",
   "execution_count": 37,
   "metadata": {},
   "outputs": [],
   "source": [
    "from sklearn.model_selection import train_test_split\n",
    "xl_train, xl_test, yl_train, yl_test = train_test_split(data_set, data_target,test_size=0.25, random_state=0)"
   ]
  },
  {
   "cell_type": "code",
   "execution_count": 38,
   "metadata": {},
   "outputs": [],
   "source": [
    "## Import the Logistic regression model and creating an instance\n",
    "from sklearn.linear_model import LogisticRegression\n",
    "logisticRegr = LogisticRegression()"
   ]
  },
  {
   "cell_type": "code",
   "execution_count": 39,
   "metadata": {},
   "outputs": [
    {
     "data": {
      "text/plain": [
       "LogisticRegression(C=1.0, class_weight=None, dual=False, fit_intercept=True,\n",
       "          intercept_scaling=1, max_iter=100, multi_class='ovr', n_jobs=1,\n",
       "          penalty='l2', random_state=None, solver='liblinear', tol=0.0001,\n",
       "          verbose=0, warm_start=False)"
      ]
     },
     "execution_count": 39,
     "metadata": {},
     "output_type": "execute_result"
    }
   ],
   "source": [
    "## Training the model\n",
    "logisticRegr.fit(xl_train, yl_train)\n"
   ]
  },
  {
   "cell_type": "code",
   "execution_count": 40,
   "metadata": {},
   "outputs": [],
   "source": [
    "## Predicting the test data by the model\n",
    "predictions = logisticRegr.predict(xl_test)\n"
   ]
  },
  {
   "cell_type": "code",
   "execution_count": 41,
   "metadata": {},
   "outputs": [
    {
     "name": "stdout",
     "output_type": "stream",
     "text": [
      "0.8878695208970439\n"
     ]
    }
   ],
   "source": [
    "## Accuracy of the model\n",
    "score = logisticRegr.score(xl_test, yl_test)\n",
    "print(score)"
   ]
  },
  {
   "cell_type": "markdown",
   "metadata": {},
   "source": [
    "## The model using SKlearn library has given the accuarcy of 88.7% which is close to the model without using sklearn which gave accuracy of 91.25%."
   ]
  },
  {
   "cell_type": "code",
   "execution_count": null,
   "metadata": {},
   "outputs": [],
   "source": []
  }
 ],
 "metadata": {
  "kernelspec": {
   "display_name": "Python 3",
   "language": "python",
   "name": "python3"
  },
  "language_info": {
   "codemirror_mode": {
    "name": "ipython",
    "version": 3
   },
   "file_extension": ".py",
   "mimetype": "text/x-python",
   "name": "python",
   "nbconvert_exporter": "python",
   "pygments_lexer": "ipython3",
   "version": "3.6.5"
  }
 },
 "nbformat": 4,
 "nbformat_minor": 2
}
